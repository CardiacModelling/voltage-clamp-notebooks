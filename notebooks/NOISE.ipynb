{
 "cells": [
  {
   "cell_type": "markdown",
   "id": "86649012-4219-45f8-a42b-2f222159d7c9",
   "metadata": {},
   "source": [
    "\n",
    "\n",
    "- Look at noise notebook again\n",
    "- Look at pink noise:\n",
    "  - Can we tell from spectrum what \"color\" the noise is?\n",
    "  - \"Pink noise\" looks interesting\n",
    "  - https://stackoverflow.com/questions/67085963/generate-colors-of-noise-in-python\n",
    "  - https://en.wikipedia.org/wiki/Pink_noise\n",
    "  - https://en.wikipedia.org/wiki/Johnson%E2%80%93Nyquist_noise\n",
    "- Look at shot noise:\n",
    "  - Looks interesting: https://electronics.stackexchange.com/questions/716039/noise-in-classical-quantum-transmission\n",
    "  - But what time scale does this happen on?"
   ]
  }
 ],
 "metadata": {
  "kernelspec": {
   "display_name": "Python 3 (ipykernel)",
   "language": "python",
   "name": "python3"
  },
  "language_info": {
   "codemirror_mode": {
    "name": "ipython",
    "version": 3
   },
   "file_extension": ".py",
   "mimetype": "text/x-python",
   "name": "python",
   "nbconvert_exporter": "python",
   "pygments_lexer": "ipython3",
   "version": "3.13.2"
  }
 },
 "nbformat": 4,
 "nbformat_minor": 5
}
