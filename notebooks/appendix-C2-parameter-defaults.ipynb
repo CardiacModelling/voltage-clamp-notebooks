{
 "cells": [
  {
   "cell_type": "markdown",
   "id": "fc24dbb4",
   "metadata": {},
   "source": [
    "# Appendix C2: Default parameter values\n",
    "**Appendix C discusses variable names and values**"
   ]
  },
  {
   "cell_type": "markdown",
   "id": "e184af6f",
   "metadata": {},
   "source": [
    "Here we present the \"default\" values used in these notebooks.\n",
    "Other choices are possible."
   ]
  },
  {
   "cell_type": "markdown",
   "id": "3e6bd67d",
   "metadata": {},
   "source": [
    "## Basic model\n",
    "\n",
    "| Parameter | Value         | Motivation                                                   |\n",
    "|:----------|:--------------|:-------------------------------------------------------------|\n",
    "| $R_s$     | 5 M$\\Omega$   | A 3$\\Omega$ pipette with an additional 2$\\Omega$ at the seal |\n",
    "| $C_m$     | 25 pF         | A small cell such as a HEK or CHO cell                       |\n",
    "| $C_p$     | 5 pF          | Based on own experience                                      |\n",
    "| $R_f$     | 0.5 G$\\Omega$ | Similar to HEKA, Axon, and Sutter                            |\n",
    "| $C_f$     | 0.15 pF       | Similar to HEKA                                              |\n",
    "| $\\tau_a$  | 12e-6 ms      | Fit to data                                                  |\n",
    "\n",
    "Values are rounded to reflect uncertainty in the true values."
   ]
  },
  {
   "cell_type": "markdown",
   "id": "482bff5f",
   "metadata": {},
   "source": [
    "## Model with compensation\n",
    "\n",
    "\n",
    "| Parameter        | Value     | Motivation                |\n",
    "|:-----------------|:----------|:--------------------------|\n",
    "| $\\tilde{C}_f$    | 4e-3 pF   | Fit to data               |\n",
    "| $\\alpha$         | 0.7       | Typical setting           |\n",
    "| $\\beta$          | 0.7       | Typical setting           |\n",
    "| $\\tau_\\text{RC}$ | 10e-3 ms  | Default for HEKA and Axon |\n",
    "\n",
    "Estimates for $R_s$, $C_m$, and $C_p$ are set at or near their true values"
   ]
  },
  {
   "cell_type": "markdown",
   "id": "92f0e461",
   "metadata": {},
   "source": [
    "## Filter settings\n",
    "\n",
    "| Parameter | Value   | Meaning                   | Motivation      |\n",
    "|:----------|:--------|:--------------------------|-----------------|\n",
    "| $t_r$     | 0.04 ms | Stimulus filter rise time | Fit to data     |\n",
    "| $f_{c1}$  | 10 kHz  | F1 cut-off frequency      | Typical setting |\n",
    "| $f_{c2}$  | 10 kHz  | F2 cut-off frequency      | Typical setting |"
   ]
  }
 ],
 "metadata": {
  "kernelspec": {
   "display_name": "Python 3 (ipykernel)",
   "language": "python",
   "name": "python3"
  },
  "language_info": {
   "codemirror_mode": {
    "name": "ipython",
    "version": 3
   },
   "file_extension": ".py",
   "mimetype": "text/x-python",
   "name": "python",
   "nbconvert_exporter": "python",
   "pygments_lexer": "ipython3",
   "version": "3.13.2"
  }
 },
 "nbformat": 4,
 "nbformat_minor": 5
}
