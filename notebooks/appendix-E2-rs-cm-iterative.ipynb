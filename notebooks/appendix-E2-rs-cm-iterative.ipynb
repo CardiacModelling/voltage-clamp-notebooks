{
 "cells": [
  {
   "cell_type": "markdown",
   "id": "7fb2df6f",
   "metadata": {},
   "source": [
    "# Appendix E2: Estimating Rs and Cm; an iterative approach\n",
    "**Appendix E describes Rs and Cm estimation methods**"
   ]
  },
  {
   "cell_type": "markdown",
   "id": "e2ffeda4",
   "metadata": {},
   "source": [
    "Having reviewed the \"one-shot\" approach used in Axon's pCLAMP, we now turn to the iterative method employed in HEKA devices such as the EPC-10.\n",
    "\n",
    "As reference we shall use the EPC-10 hardware manual version 3.1, as available from [HEKA](http://www.heka.com/downloads/downloads_main.html#down_pca), starting on page 57, but more importantly - [Sigworth 1995c](https://doi.org/10.1016/0165-0270(94)00129-5), section 3."
   ]
  },
  {
   "cell_type": "markdown",
   "id": "6b6ceac4",
   "metadata": {},
   "source": [
    "Step from $-V_0/2$ to $V_0/2$ at $t=0$\n",
    "\n",
    "Linear network $G_s$ followed by ($G_m$ and $C_m$) in parallel"
   ]
  },
  {
   "cell_type": "code",
   "execution_count": null,
   "id": "24654ce2",
   "metadata": {},
   "outputs": [],
   "source": []
  },
  {
   "cell_type": "code",
   "execution_count": null,
   "id": "d5160014",
   "metadata": {},
   "outputs": [],
   "source": []
  },
  {
   "cell_type": "code",
   "execution_count": null,
   "id": "b86f5553",
   "metadata": {},
   "outputs": [],
   "source": []
  },
  {
   "cell_type": "code",
   "execution_count": null,
   "id": "46712904",
   "metadata": {},
   "outputs": [],
   "source": []
  }
 ],
 "metadata": {
  "kernelspec": {
   "display_name": "Python 3 (ipykernel)",
   "language": "python",
   "name": "python3"
  },
  "language_info": {
   "codemirror_mode": {
    "name": "ipython",
    "version": 3
   },
   "file_extension": ".py",
   "mimetype": "text/x-python",
   "name": "python",
   "nbconvert_exporter": "python",
   "pygments_lexer": "ipython3",
   "version": "3.11.9"
  }
 },
 "nbformat": 4,
 "nbformat_minor": 5
}
