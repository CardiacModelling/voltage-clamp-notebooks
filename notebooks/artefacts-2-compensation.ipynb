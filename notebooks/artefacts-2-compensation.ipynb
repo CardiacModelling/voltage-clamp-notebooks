{
 "cells": [
  {
   "cell_type": "markdown",
   "id": "cf0eda98",
   "metadata": {},
   "source": [
    "# Modelling patch-clamp experiments: electronic compensation\n",
    "\n",
    "In the [last notebook](./artefacts-1-modelling-patch-clamp.ipynb), we introduced an electrical schematic that can serve as a model of the patch-clamp set up, with distortions by leak, offsets, and unwanted capacitances.\n",
    "To compensate for these unwanted effects, patch-clamp amplifiers contain special circuitry.\n",
    "In this notebook we extend our model to include the effects of these compensations, based on the model in [Lei et al., 2020](https://doi.org/10.1098/rsta.2019.0348) - but with some notable updates and differences.\n",
    "\n",
    "We will deal mostly with _transient_ distortions of the recorded output signal, which we call _artefacts_, and with transient differences between the true and intended membrane potential, which are an example of _imperfect control_.\n",
    "These terms, and general strategies for dealing with their effects, are discussed in [Appendix D1](./appendix-D1-strategies.ipynb).\n",
    "Stochastic and periodic noise are not discussed here, but a brief discussion is given in [Appendix D2](./appendix-D2-inspecting-noise.ipynb)."
   ]
  },
  {
   "cell_type": "markdown",
   "id": "f2b59884",
   "metadata": {},
   "source": [
    "## Zeroing and the liquid junction potential ($E_\\text{off}$)\n",
    "\n",
    "In the last notebook we introduced $E_\\text{off}$, which represents the sum of various voltage offsets that are incurred in the experimental setup.\n",
    "This offset is usually corrected by a dial or a digital control that allows the experimenter to subtract an equal offset $-E_\\text{off}^*$.\n",
    "To allow for the idea that this correction is imperfect, either because it was set imperfectly or because $E_\\text{off}$ drifted over time, we now introduce a symbol for the error in the offset correction $E_\\text{off}^\\dagger$ as\n",
    "\\begin{equation}\n",
    "E_\\text{off}^\\dagger = E_\\text{off} - E_\\text{off}^*\n",
    "\\end{equation}\n",
    "\n",
    "In the schematic, we will simply replace $E_\\text{off}$ with the remaining error."
   ]
  },
  {
   "cell_type": "markdown",
   "id": "29f58378",
   "metadata": {},
   "source": [
    "<img src=\"resources/patch-comp-1-Eoff.png\" />\n",
    "\n",
    "_**Figure 1**: The voltage offset has been corrected until only a small error_ $E_\\text{off}^\\dagger$ _remains._"
   ]
  },
  {
   "cell_type": "markdown",
   "id": "5dcfaa36",
   "metadata": {},
   "source": [
    "### The liquid junction potential\n",
    "\n",
    "A liquid junction potential (LJP) arises wherever two liquids containing different concentrations of ions are in contact.\n",
    "In manual patch clamp this is the case just before the experiment, when the pipette is in the bath but not yet attached to the cell, so that the pipette fluid is in contact with the bath fluid.\n",
    "The correction $E_\\text{off}*$ is usually determined just before the final approach to the cell, and so includes this LJP.\n",
    "\n",
    "Once a connection to the cell is made, the pipette fluid is in contact with the cytosol and because both fluids are similar an LJP no longer occurs.\n",
    "This means that our correction $E_\\text{off}*$ was made in the presence of an LJP that no longer occurs, and we are now _overcorrecting_.\n",
    "\n",
    "The correction for this overcorrection is called LJP correction, and proceeds as follows:\n",
    "\n",
    "1. The LJP is calculated by entering the bath and pipette solutions into an LJP calculating program. This is not as simple as it sounds: buffering of e.g. calcium by calcium buffers must be taken into account, and often solutions are pH corrected by adding NaOH or KOH, which should also be taken into account in the LJP calculation.\n",
    "2. We can then adjust all $V_\\text{cmd}$ values to obtain the desired $V_m$ (*a priori* correction) or simply accept that $V_m$ is shifted from the desired value and account for this in our analysis (*a posteriori* correction). \n",
    "\n",
    "Some systems allow the LJP to be entered into the recording software, so that *a priori* correction can be performed without further user input.\n",
    "\n",
    "A detailed description of the correction procedure is provided in [Appendix D3](./appendix-D3-liquid-junction-potential.ipynb).\n",
    "In short, if you have to do manual *a posteriori* correction then you **subtract** the LJP from the applied or measured voltage to get the true value.\n",
    "\n",
    "In the remainder of this notebook we will assume LJP correction has been performed a priori by adjusting $V_\\text{cmd}$.\n",
    "We will treat $E_\\text{off}^\\dagger$ as a small number that does not include the LJP."
   ]
  },
  {
   "cell_type": "markdown",
   "id": "f06ccd9b-39e6-45b6-b2cf-72801dc4082a",
   "metadata": {},
   "source": [
    "## Frequency response correction ($C_f$)\n",
    "\n",
    "Combined with the feedback resistance $R_f$, the stray capacitance $C_f$ determines the time constant $\\tau_f = R_f C_f$ which affects the speed with which the op-amp can change the pipette voltage $V_p$.\n",
    "In electronics parlance, which is heavily geared towards periodic signals, we can say $\\tau_f$ determines the op-amp's _bandwidth_ or _frequency response_.\n",
    "\n",
    "For typical values of $R_f$ and $C_f$, given in [Appendix C3](./appendix-C3-parameter-values.ipynb), we find $\\tau_f$ values of 0.08ms to 1ms.\n",
    "Because thes values would lead to unacceptably slow voltage-clamps, amplifiers such as the HEKA EPC-10 or the Axopatch 200B contain \"high frequency boost\" circuitry that greatly reduces the apparent $\\tau_f$ value ([Sigworth (1995b) Design of the EPC-9, a computer-controlled patch-clamp amplifier, 1 Hardware](https://doi.org/10.1016/0165-0270(94)00128-4), [Axopatch 200B manual](https://support.moleculardevices.com/s/article/Axon-AxoPatch-Manual-Download-Page)).\n",
    "The work by Sigworth suggests an apparent value of 4 $\\mu$s for the HEKA EPC-9.\n",
    "By fitting to measurements made with an EPC-10 we found a value of around 2 $\\mu$s.\n",
    "\n",
    "To include this in the model, we shall stick to the $R_f$ values specified by the hardware manufacturers, but replace $C_f$ by an _apparent_ value $\\tilde{C}_f$."
   ]
  },
  {
   "cell_type": "markdown",
   "id": "311513db-95e3-40ec-a900-8e1d32f22464",
   "metadata": {},
   "source": [
    "<img src=\"resources/patch-comp-2-Cf-apparent.png\" />\n",
    "\n",
    "_**Figure 2**: The \"high frequency boost\" is modelled by replacing $C_f$ with a much smaller apparent value, $\\tilde{C}_f$._"
   ]
  },
  {
   "cell_type": "markdown",
   "id": "6d9a5c20-d199-4d55-9ff0-312925243908",
   "metadata": {},
   "source": [
    "## Capacitance correction ($C_p$ and $C_m$), part 1\n",
    "\n",
    "Whenever $V_p$ changes, the capacitors $C_p$ and $C_m$ will be charged or uncharged, and the associated charging currents will show up in our measured currents.\n",
    "With the step protocols favoured by electrophysiologists, these charging currents can be very large and cause problems for the voltage-clamp circuitry (see also [Sigworth 1995a](https://doi.org/10.1007/978-1-4419-1229-9_4)):\n",
    "\n",
    "1. The large charging currents can exceed the limits of the A/D converter used to digitise the output voltage. For the samples during which this _clipping_ occurs, we record only the maximum (or minimum) value, so information about the current is lost. Amplifiers in the A/D converter may also go into _saturation_, which significantly prolongs the clipping and leads to further signal loss.\n",
    "2. Large transient currents can cause the op amp in the feedback circuit to saturate, leading to a loss of control over the membrane voltage until the amplifier has recovered.\n",
    "\n",
    "To avoid these problems, we introduce a separate pathway to charge $C_p$ and $C_m$, which bypasses the feedback amplifier.\n",
    "In the diagram below we show this using an active component (unlabelled), which \"injects\" a charging current $I_\\text{inj}$ into the system, based on $V_c$, but without drawing in any current at its input."
   ]
  },
  {
   "cell_type": "markdown",
   "id": "b3f52e51-b20e-4da9-993c-96eab64ee664",
   "metadata": {},
   "source": [
    "<img src=\"resources/patch-comp-3-Iinj.png\" />\n",
    "\n",
    "_**Figure 3**: Capacitance correction aims to charge $C_p$ and $C_m$ without affecting $V_\\text{out}$ ._"
   ]
  },
  {
   "cell_type": "markdown",
   "id": "17a5e9e8-fec8-4c83-bf9d-518b7c44411f",
   "metadata": {},
   "source": [
    "The injected current is determined using estimates $C_p^*$ and $C_m^*$ of the parasitic and membrane capacitance, and depends on the derivative of the command potential $\\dot{V_c}$:\n",
    "\\begin{align}\n",
    "I_\\text{inj} = (C_p^* + C_m^*) \\dot{V}_c\n",
    "\\end{align}"
   ]
  },
  {
   "cell_type": "markdown",
   "id": "1e27c7e0-347a-4674-8671-e20ce46b1853",
   "metadata": {},
   "source": [
    "### Stimulus filter\n",
    "\n",
    "For voltage step protocols, the $\\dot{V}_c$ term in the above equation is theoretically either $0$, during steps, or $\\pm\\infty$, at transitions.\n",
    "In practice, we might expect some \"rounding\" to occur leading to less extreme values.\n",
    "The HEKA amplifiers further reduce the voltage artefacts (and corrections) by adding a _stimulus filter_ over the command potential $V_c$, as shown in the diagram below."
   ]
  },
  {
   "cell_type": "markdown",
   "id": "bbde9ac1-f2dc-4bad-ae9d-3dc9cb4afa76",
   "metadata": {},
   "source": [
    "<img src=\"resources/patch-comp-4-stim-filter.png\" />\n",
    "\n",
    "_**Figure 4**: The stimulus filter reduces the size of capacitative artefacts._"
   ]
  },
  {
   "cell_type": "markdown",
   "id": "2bee31fb-e60c-4a0f-8155-51378c4aa1ce",
   "metadata": {},
   "source": [
    "Here $F_s$ represents a filtering of $V_c$ resulting in the voltage $V_s$.\n",
    "As a first approximation we can represent this in equations as\n",
    "\\begin{align}\n",
    "\\dot{V_s} = \\frac{V_c - V_s}{\\tau_s}\n",
    "\\end{align}\n",
    "where $\\tau_s \\approx 25 \\mu s$ (see [Appendix A4](./appendix-A4-bessel-filters.ipynb)).\n",
    "\n",
    "With the stimulus filter in place, the capacitance correction becomes\n",
    "\\begin{align}\n",
    "I_\\text{inj} = (C_p^* + C_m^*) \\dot{V}_s\n",
    "\\end{align}\n",
    "\n",
    "After introducing series resistance compensation in the next section, we will further refine this capacitance correction."
   ]
  },
  {
   "cell_type": "markdown",
   "id": "3a492bbb",
   "metadata": {},
   "source": [
    "## Series resistance compensation ($R_s$)\n",
    "\n",
    "The _series resistance_ causes two issues for controlling the membrane potential:\n",
    "\n",
    "1. It causes a voltage drop, so that $V_m$ is not quite equal to the intended voltage $V_p$.\n",
    "2. It causes the membrane voltage to lag behind the desired voltage, with a time constant $R_sC_m$.\n",
    "\n",
    "To compensate for these effects, we will increase the voltage clamp potential a little bit above the desired command potential $V_c$.\n",
    "Two separate mechanisms are used.\n",
    "A feed-forward _correction_ mechanism based on the observed current corrects for the voltage drop,\n",
    "while a _prediction_ (or \"supercharging\") mechanism based on the estimated membrane potential speeds up the charging process."
   ]
  },
  {
   "cell_type": "markdown",
   "id": "5787e7cf",
   "metadata": {},
   "source": [
    "### \"Correction\" reduces the voltage drop\n",
    "\n",
    "A common method to compensate for the voltage drop, is to _feed a fraction of_ $V_\\text{out}$ _forward into_ $V_c$ ([Hodgkin et al. 1952](https://physoc.onlinelibrary.wiley.com/doi/10.1113/jphysiol.1952.sp004716)).\n",
    "In the schematic, we'll show this with two new components: an active component labelled $\\alpha$ that sets the voltage to be added, and a _summing amplifier_, labelled $\\Sigma$:"
   ]
  },
  {
   "cell_type": "markdown",
   "id": "d8e68433",
   "metadata": {},
   "source": [
    "<img src=\"resources/patch-comp-5-Rs-corr.png\" />\n",
    "\n",
    "_**Figure 5**: Series resistance correction feeds a fraction of_ $V_\\text{out}$ _into_ $V_\\text{ref}$ _via a summing amplifier._"
   ]
  },
  {
   "cell_type": "markdown",
   "id": "204a0287",
   "metadata": {},
   "source": [
    "In this new set-up\n",
    "\n",
    "\\begin{align}\n",
    "V_\\text{out} = V_o - V_\\text{ref}\n",
    "\\end{align}\n",
    "\n",
    "And so the extra voltage added by the series resistance compensation will be zero when $V_o = V_\\text{ref}$.\n",
    "\n",
    "To analyse the effect of feed-forward on the voltage drop over $R_s$, we use the simplified schematic shown below."
   ]
  },
  {
   "cell_type": "markdown",
   "id": "05b12cd2",
   "metadata": {},
   "source": [
    "<img src=\"resources/patch-comp-6-Rs-simplified.png\" />\n",
    "\n",
    "_**Figure 6**: A simplified schematic for_ $R_s$ _correction._"
   ]
  },
  {
   "cell_type": "markdown",
   "id": "d96513ab",
   "metadata": {},
   "source": [
    "Using $x$ for the fraction of $V_\\text{out}$ fed into $V_\\text{ref}$ we find\n",
    "\\begin{align}\n",
    "V_\\text{ref} = V_s + x V_\\text{out} = V_s + x R_f I_\\text{obs}\n",
    "\\end{align}\n",
    "\n",
    "With this, we can write an equation for the membrane voltage $V_m$ as\n",
    "\\begin{align}\n",
    "V_m &= V_p - R_s I \\\\\n",
    "    &\\approx V_\\text{ref} - R_s I \\\\\n",
    "    &= V_s + x R_f I_\\text{obs} - R_s I \\\\\n",
    "    &\\approx V_s + (x R_f - R_s) I\n",
    "\\end{align}\n",
    "\n",
    "where we assume first a perfect op amp ($V_p \\approx V_\\text{ref}$) and then a perfect measurement ($I \\approx I_\\text{obs}$).\n",
    "The error in the voltage is given by\n",
    "$V_m - V_s \\approx (x R_f - R_s) I$\n",
    "so if we can choose $x R_f = R_s$ we can compensate for the voltage drop over $R_s$ entirely.\n",
    "\n",
    "To implement this, we will make an estimate of the series resistance, $R_s^*$, and choose $x$ so that $x R_f = R_s^*$.\n",
    "We can then write:\n",
    "\n",
    "\\begin{align}\n",
    "V_\\text{ref} = V_s + R_s^* I_\\text{obs}\n",
    "\\end{align}\n",
    "\n",
    "In practice, the various delays and imperfections in the system can easily create a situation where the feed-forward causes oscillations  or \"ringing\" in the system.\n",
    "To alleviate this, we only compensate a fraction $\\alpha$ of the estimated resistance:\n",
    "\n",
    "\\begin{align}\n",
    "V_\\text{ref} = V_s + \\alpha R_s^* I_\\text{obs} = V_s + \\alpha \\frac{R_s^*}{R_f} V_\\text{out} \n",
    "\\end{align}\n",
    "\n",
    "where $\\alpha$ is usually limited to about 70 or 80% ([Sigworth 1995a](https://doi.org/10.1007/978-1-4419-1229-9_4))."
   ]
  },
  {
   "cell_type": "markdown",
   "id": "fc428a62",
   "metadata": {},
   "source": [
    "### Incorporating a \"lag\"\n",
    "\n",
    "To increase the stability of the compensation, patch-clamp amplifiers typically use a filtered version of $V_\\text{out}$ in series resistance compensation, which lags behind the real $V_\\text{out}$ with a user-specified time constant.\n",
    "For example, in the Axopatch 200B this is implemented with a \"1-pole low-pass filter\" (see [Appendix A4](./appendix-A4-bessel-filters.ipynb) for more about filters).\n",
    "\n",
    "To model this, we introduce a filtered version of $V_\\text{out}$, which we will call $V_\\text{rc}$, and a user-specified time constant $\\tau_\\text{rc}$.\n",
    "We update the schematic as follows:"
   ]
  },
  {
   "cell_type": "markdown",
   "id": "c8b000b0-67c6-4f01-a3de-a8e056744e78",
   "metadata": {},
   "source": [
    "<img src=\"resources/patch-comp-7-Rs-lag.png\" />\n",
    "\n",
    "_**Figure 7**: A low-pass filter on $V_\\text{out}$ adds a user-specified \"lag\" on the series resistance correction._"
   ]
  },
  {
   "cell_type": "markdown",
   "id": "382dc28d-33c4-49df-b88e-6a3f81b8a030",
   "metadata": {},
   "source": [
    "And write\n",
    "\n",
    "\\begin{align}\n",
    "V_\\text{ref} = V_s + \\alpha \\frac{R_s^*}{R_f} V_\\text{rc}\n",
    "\\end{align}\n",
    "\\begin{align}\n",
    "\\dot{V}_\\text{rc} = \\frac{V_\\text{out} - V_\\text{rc}}{\\tau_\\text{rc}}\n",
    "\\end{align}\n",
    "\n",
    "Where a typical value for $\\tau_\\text{rc}$ is $10\\mu s$ (see [Appendix C3](./appendix-C3-parameter-values.ipynb))."
   ]
  },
  {
   "cell_type": "markdown",
   "id": "2a8cd7d8",
   "metadata": {},
   "source": [
    "### \"Prediction\" speeds up the charging process\n",
    "\n",
    "At this point, it becomes necessary to revisit the capacitance correction.\n",
    "Using the feedback scheme above, we corrected for the series resistance $R_s$ by adding in a term proportional to $I_\\text{obs}$.\n",
    "The current to charge $C_m$ also flows through $R_s$, but is not accounted for by $I_\\text{obs}$ when capacitance correction is used.\n",
    "\n",
    "(Note that, in our schematic, the current to charge $C_p$ does _not_ flow through $R_s$. In the real set-up, part of the capacitance represented by our $C_p$ may occur after $R_s$, so this is an approximation.)\n",
    "\n",
    "To remedy this, we address membrane charging seperately, by\n",
    "\n",
    "1. Making a _prediction_ of $V_m$, as affected by $R_sC_m$\n",
    "2. Speed up the charging process by temporarily applying an exaggerated voltage.\n",
    "\n",
    "For the estimated membrane potential, _without any compensation_, we will write\n",
    "\\begin{align}\n",
    "\\dot{V}_\\text{est} &= \\frac{V_s - V_\\text{est}}{R_s^*C_m^*}   \n",
    "\\end{align}\n",
    "where $R_s^*$ and $C_m^*$ are estimates of the series resistance and membrane capacitance.\n",
    "If we can compensate for a fraction $\\beta$ of $R_s$, we can estimate the remaining series resistance as $(1 - \\beta)R_s^*$, to find\n",
    "\\begin{align}\n",
    "\\dot{V}_\\text{est} &= \\frac{V_s - V_\\text{est}}{(1 - \\beta)R_s^*C_m^*}\n",
    "\\end{align}\n",
    "\n",
    "Next, we update the reference voltage by adding a term $\\beta R_s^*C_m^* \\dot{V}_\\text{est}$:\n",
    "\\begin{align}\n",
    "V_\\text{ref} = V_s + \\alpha \\frac{R_s^*}{R_f} V_\\text{rc} + \\beta R_s^* C_m^* \\dot{V}_\\text{est}\n",
    "\\end{align}\n",
    "which we can also write as\n",
    "\\begin{align}\n",
    "V_\\text{ref} &= V_s + \\alpha \\frac{R_s^*}{R_f} V_\\text{rc} + \\beta R_s^* C_m^* \\frac{V_s - V_\\text{est}}{(1 - \\beta)R_s^*C_m^*} \\\\\n",
    "    &= V_s + \\alpha \\frac{R_s^*}{R_f} V_\\text{rc} + \\frac{\\beta}{1 - \\beta} (V_s - V_\\text{est}) \\\\\n",
    "    &= \\alpha \\frac{R_s^*}{R_f} V_\\text{rc} + \\frac{V_s - \\beta V_\\text{est}}{1 - \\beta}\n",
    "\\end{align}\n",
    "\n",
    "A schematic including both types of $R_s$ compensation is shown below:"
   ]
  },
  {
   "cell_type": "markdown",
   "id": "a9868f70",
   "metadata": {},
   "source": [
    "<img src=\"resources/patch-comp-8-Rs-pred.png\" />\n",
    "\n",
    "_**Figure 8**: Series resistance prediction (left) and correction (right)._"
   ]
  },
  {
   "cell_type": "markdown",
   "id": "50caa469",
   "metadata": {},
   "source": [
    "The addition of the predicted charging current causes a significant \"overshoot\" in $V_\\text{ref}$, which has been likened to the _supercharging_ method of [Armstrong & Chow (1987)](https://doi.org/10.1016/S0006-3495(87)83198-3).\n",
    "\n",
    "A derivation of the prediction equations from the schematics by Sigworth is given in [appendix B3](./appendix-B3-sigworth-rs.ipynb).\n"
   ]
  },
  {
   "cell_type": "markdown",
   "id": "91036524-d6dc-4dcb-ba08-d1297d8a907e",
   "metadata": {},
   "source": [
    "## Capacitance correction ($C_p$ and $C_m$), part 2\n",
    "\n",
    "Having introduced $V_\\text{est}$ and a series resistance compensation based on $C_m^*\\dot{V}_\\text{est}$, we can now follow [Sigworth 1995a](https://doi.org/10.1007/978-1-4419-1229-9_4) and use this term in our slow capacitance correction. This means splitting up the \"injection\" pathways for fast and slow capacitance, leading to the schematic below."
   ]
  },
  {
   "cell_type": "markdown",
   "id": "28a30f05-2168-48ff-a3c6-a83572b999f2",
   "metadata": {},
   "source": [
    "<img src=\"resources/patch-comp-9-Rs-Cm.png\" />\n",
    "\n",
    "_**Figure 9**: Separate pathways for fast and slow capacitance correction._"
   ]
  },
  {
   "cell_type": "markdown",
   "id": "e35c1d2b",
   "metadata": {},
   "source": [
    "The slow capacitance correction current is now given by\n",
    "\\begin{align}\n",
    "C_m^* \\dot{V}_\\text{est}\n",
    "\\end{align}\n",
    "while the fast capacitance correction current is \n",
    "\\begin{align}\n",
    "C_p^* \\dot{V}_\\text{ref} &= C_p^* \\left(\\alpha \\frac{R_s^*}{R_f} \\dot{V}_\\text{rc} + \\frac{\\dot{V}_s - \\beta \\dot{V}_\\text{est}}{(1 - \\beta)} \\right)\n",
    "\\end{align}\n",
    "\n",
    "In practice, many  patch clamp amplifiers add another \"lag\" on the voltage used in fast-capacitance correction, which we could model as another filter over $V_\\text{ref}$ with a user-defined $\\tau$.\n",
    "Some amplifiers even allow two \"fast\" components, each with their own $C^*$ and $\\tau$.\n",
    "But here we will avoid this complication and stick to a single term $C_p^*\\dot{V}_\\text{ref}$."
   ]
  },
  {
   "cell_type": "markdown",
   "id": "21389102-a788-476c-99cf-c2d842cb299d",
   "metadata": {},
   "source": [
    "## Model equations (without output filters)\n",
    "\n",
    "The full equations for our model so far are given by:"
   ]
  },
  {
   "cell_type": "markdown",
   "id": "26ad6d1b",
   "metadata": {},
   "source": [
    "\\begin{align}\n",
    "2.1. && C_m\\dot{V}_m = \\frac{V_p + E_\\text{off}^\\dagger - V_m}{R_s} - \\frac{V_m - E_\\text{leak}}{R_\\text{leak}} - I\n",
    "\\end{align}\n",
    "\n",
    "\\begin{align}\n",
    "2.2. && (C_p+\\tilde{C}_f)\\dot{V}_p = \\frac{V_o - V_p}{R_f} - \\frac{V_p + E_\\text{off}^\\dagger - V_m}{R_s} + \n",
    "\\tilde{C}_f\\dot{V}_o + C_m^* \\dot{V}_\\text{est} + C_p^* \\dot{V}_\\text{ref}\n",
    "\\end{align}\n",
    "\n",
    "\\begin{align}\n",
    "2.3. && \\tau_a \\dot{V}_o = V_\\text{ref} - V_p\n",
    "\\end{align}\n",
    "\n",
    "\\begin{align}\n",
    "2.4. && \\dot{V}_\\text{est} &= \\frac{V_s - V_\\text{est}}{(1 - \\beta)R_s^*C_m^*}   \n",
    "\\end{align}\n",
    "\n",
    "\\begin{align}\n",
    "2.5. && V_\\text{ref} = \\alpha \\frac{R_s^*}{R_f} V_\\text{rc} + \\frac{V_s - \\beta V_\\text{est}}{1 - \\beta}\n",
    "\\end{align}\n",
    "\n",
    "\\begin{align}\n",
    "2.6. && \\dot{V}_\\text{rc} = \\frac{V_\\text{out} - V_\\text{rc}}{\\tau_\\text{rc}}\n",
    "\\end{align}\n",
    "\n",
    "\\begin{align}\n",
    "2.7. && \\dot{V_s} = \\frac{V_c - V_s}{\\tau_s}\n",
    "\\end{align}\n",
    "\n",
    "\\begin{align}\n",
    "2.8. && R_f I_\\text{obs} = V_\\text{out} = V_o - V_\\text{ref}\n",
    "\\end{align}"
   ]
  },
  {
   "cell_type": "markdown",
   "id": "30c079a4-75a8-4d3c-b6d5-ec0d798941b1",
   "metadata": {},
   "source": [
    "## Output filters and updated stimulus filter\n",
    "\n",
    "The final element we will add to the model are _filters_ used to suppress high-frequency noise in the recordings.\n",
    "Most amplifiers will contain at least one hardware filter, in addition to offline software filtering options available in patch-clamp software.\n",
    "Here we will consider two output filters: one in the $R_s$-feedback loop (F1 in the schematic) and one that only affects the output (F2).\n",
    "In addition, we will update the formulation for the stimulus filter."
   ]
  },
  {
   "cell_type": "markdown",
   "id": "6bcc78c8-74df-4e8b-8cfa-098082aca8d8",
   "metadata": {},
   "source": [
    "<img src=\"resources/patch-comp-10-filters.png\" />\n",
    "\n",
    "_**Figure 10**: Two low-pass filters on the output._"
   ]
  },
  {
   "cell_type": "markdown",
   "id": "e9e26d05-baed-4a2b-aad0-b2dedeed11d7",
   "metadata": {},
   "source": [
    "In HEKA amplifiers, F1 and F2 are present as hardware filters (although there is a \"bypass\" option for F2).\n",
    "In Axon amplifiers F1 is implemented in hardware but F2 is a software filters.\n",
    "\n",
    "Both these filters are _low pass filters_, which means they block high frequency signals (e.g. noise) but let lower frequencies through.\n",
    "In terms of transient signals, they _smooth_ rapid transitions while leaving slower changes unaffected.\n",
    "This means that we can typically ignore the filters for currents like $I_\\text{Kr}$, but may want to include them when studying $I_\\text{Na}$.\n"
   ]
  },
  {
   "cell_type": "markdown",
   "id": "325daf72-7b35-43e6-88b3-effb6aef897c",
   "metadata": {},
   "source": [
    "### Low-pass filter terminology\n",
    "\n",
    "Each filter is described by a _cut-off frequency_, an _order_, and a _type_.\n",
    "For example, a typical choice for F1 is a 10kHz (frequency) sixth-order (order) low-pass Bessel filter (type).\n",
    "\n",
    "Low-pass filters block very little at low frequencies but progressively more at higher frequencies.\n",
    "The _cut-off frequency_, $f_c$ is the frequency at which the amount of signal attenuation reaches a particular level: typically -3 dB.\n",
    "As an alternative to a cut-off frequency, a filter's _rise time_ is sometimes used.\n",
    "This is the time it takes for a step function, passed through the filter, to rise from 10% to 90% of the step value.\n",
    "\n",
    "The _order_ of a filter determines how sharply the level of attenuation increases as the frequency increases.\n",
    "So a 6th-order filter reduces high frequencies much more aggressively than a first-order one.\n",
    "In the mathematical description of filters, the number of [poles](https://en.wikipedia.org/wiki/Zeros_and_poles) in the equation describing a filter typically corresponds to its order, so e.g. a fourth-order filter is often referred to as a 4-pole filter.\n",
    "\n",
    "The exact relationship between frequency and level of attenuation is determined by the filter _type_.\n",
    "Lots of options are available, but here we will focus only on _Bessel filters_, which are the type commonly found in patch-clamp amplifiers.\n",
    "Background on Bessel filters is provided in [Appendix A4](./appendix-A4-bessel-filters.ipynb), and background on filters in general and the mathematical \"Laplace transformation\" used in their design is provided in [Appendix A2](./appendix-A2-laplace-and-filters.ipynb).\n"
   ]
  },
  {
   "cell_type": "markdown",
   "id": "01d8f4a9-6762-428c-97c7-c044f36e0736",
   "metadata": {},
   "source": [
    "### Bessel-filter ODEs\n",
    "\n",
    "To find ODEs describing Bessel filters, we use the following approach:\n",
    "\n",
    "1. Work out the ODEs describing a first-order and second-order Bessel filters, and then treat all higher order filters as series of 1st and/or 2nd order ones. For example, a 3d-order filter becomes a 2nd and 1st in series, while a 6th-order filter is written as a cascade of three 2nd order ones.\n",
    "2. A second-order filter is described by a second-order ODE. To get a this into software like Myokit, we introduce an extra variable and write it as a system of two first order ODEs.\n",
    "\n",
    "The HEKA EPC-10 uses a 6-pole Bessel as F1, an additional 4-pole Bessel as F2 (for a combined 10-pole output filter), and a 2-pole Bessel filter as stimulus filter.\n",
    "We will provide ODEs for these filters without further explanation: readers are referred to [Appendix A5](./appendix-A5-bessel-filter-odes.ipynb) for their derivation and discussion. "
   ]
  },
  {
   "cell_type": "markdown",
   "id": "83c6bb57-2197-434d-81af-fec9fffaaa6c",
   "metadata": {},
   "source": [
    "Second-order low-pass Bessel filter:\n",
    "\n",
    "\\begin{align}\n",
    "\\dot{y_1} &= 3 \\left[ \\frac{u(t) - y_2(t)}{a^2} - \\frac{y_1(t)}{a} \\right] \\quad&\n",
    "\\dot{y_2} &= y_1(t) \\\\\n",
    "a &= \\frac{1.3616}{2 \\pi f_c} = \\frac{1.3616}{\\log 9} t_r\n",
    "\\end{align}\n",
    "where $u(t)$ is the input signal, $y_2$ is the output, and $t_r$ is the _rise time_.\n",
    "\n",
    "Fourth-order low-pass Bessel filter:\n",
    "\\begin{align}\n",
    "\\dot{y_1} &= \\frac{11.488}{a^2} \\left[u(t) - y_2(t)\\right] - \\frac{4.2076}{a} y_1(t) \\quad&\n",
    "\\dot{y_2} &= y_1(t) \\\\\n",
    "\\dot{y_3} &= \\frac{9.1401}{a^2} \\left[y_2(t) - y_4(t)\\right] - \\frac{5.7924}{a} y_3(t) \\quad&\n",
    "\\dot{y_4} &= y_3(t) \\\\\n",
    "a &= \\frac{2.114}{2 \\pi f_c}\n",
    "\\end{align}\n",
    "where $y_4$ is the output signal.\n",
    "\n",
    "Sixth-order low-pass Bessel filter:\n",
    "\\begin{align}\n",
    "\\dot{y1} &= \\frac{26.514}{a^2} \\left[u(t) - y_2(t)\\right] - \\frac{5.0319}{a} y_1(t) \\quad&\n",
    "\\dot{y2} &= y_1(t) \\\\\n",
    "\\dot{y3} &= \\frac{20.853}{a^2} \\left[y_2(t) - y_4(t)\\right] - \\frac{7.4714}{a} y_3(t) \\quad&\n",
    "\\dot{y4} &= y_3(t) \\\\\n",
    "\\dot{y5} &= \\frac{18.801}{a^2} \\left[y_4(t) - y_6(t)\\right] - \\frac{8.4967}{a} y_5(t) \\quad&\n",
    "\\dot{y6} &= y_5(t) \\\\\n",
    "a &= \\frac{2.7034}{2 \\pi f_c}\n",
    "\\end{align}\n",
    "where $y_6$ is the output signal."
   ]
  },
  {
   "cell_type": "markdown",
   "id": "6a8ebee1-93b1-4cde-a5e6-55d2ad492b9e",
   "metadata": {},
   "source": [
    "Instead of writing these out in full, we can use a function notation:\n",
    "\n",
    "\\begin{align}\n",
    "\\dot{V}_s = f_s(V_c) &&\n",
    "\\dot{V}_1 = f_1(V_o - V_\\text{ref}) &&\n",
    "R_f \\dot{I}_\\text{obs} = f_2(V_1)\n",
    "\\end{align}"
   ]
  },
  {
   "cell_type": "markdown",
   "id": "49e0fbaa-f3b0-4fdc-937d-c525f28f95f0",
   "metadata": {},
   "source": [
    "## Model equations (with output filters)\n",
    "\n",
    "Using function notation for the filters, and replacing the first-order stimulus filter with a second-order Bessel filter, we obtain:"
   ]
  },
  {
   "cell_type": "markdown",
   "id": "f02705d1-b188-4770-bae0-f3c768acd704",
   "metadata": {},
   "source": [
    "\\begin{align}\n",
    "3.1. && C_m\\dot{V}_m = \\frac{V_p + E_\\text{off}^\\dagger - V_m}{R_s} - \\frac{V_m - E_\\text{leak}}{R_\\text{leak}} - I\n",
    "\\end{align}\n",
    "\n",
    "\\begin{align}\n",
    "3.2. && (C_p+\\tilde{C}_f)\\dot{V}_p = \\frac{V_o - V_p}{R_f} - \\frac{V_p + E_\\text{off}^\\dagger - V_m}{R_s} + \n",
    "\\tilde{C}_f\\dot{V}_o + C_m^* \\dot{V}_\\text{est} + C_p^* \\dot{V}_\\text{ref}\n",
    "\\end{align}\n",
    "\n",
    "\\begin{align}\n",
    "3.3. && \\tau_a \\dot{V}_o = V_\\text{ref} - V_p\n",
    "\\end{align}\n",
    "\n",
    "\\begin{align}\n",
    "3.4. && \\dot{V}_\\text{est} &= \\frac{V_s - V_\\text{est}}{(1 - \\beta)R_s^*C_m^*}   \n",
    "\\end{align}\n",
    "\n",
    "\\begin{align}\n",
    "3.5. && V_\\text{ref} = \\alpha \\frac{R_s^*}{R_f} V_\\text{rc} + \\frac{V_s - \\beta V_\\text{est}}{1 - \\beta}\n",
    "\\end{align}\n",
    "\n",
    "\\begin{align}\n",
    "3.6. && \\tau_\\text{rc} \\dot{V}_\\text{rc} = V_1 - V_\\text{rc}\n",
    "\\end{align}\n",
    "\n",
    "\\begin{align}\n",
    "3.7. && \\dot{V}_1 = f_1(V_o - V_\\text{ref})\n",
    "\\end{align}\n",
    "\n",
    "\\begin{align}\n",
    "3.8. && R_f \\dot{I}_\\text{obs} = f_2(V_1)\n",
    "\\end{align}\n",
    "\n",
    "\\begin{align}\n",
    "3.9. && \\dot{V_s} = f_s(V_c)\n",
    "\\end{align}"
   ]
  },
  {
   "cell_type": "markdown",
   "id": "bf261c79-11e2-454a-86d9-5b92056597ad",
   "metadata": {},
   "source": [
    "<img src=\"resources/patch-comp-10-filters.png\" />\n",
    "\n",
    "_**Figure 10** (repeat): The final schematic._"
   ]
  },
  {
   "cell_type": "markdown",
   "id": "3e18bb3d",
   "metadata": {},
   "source": [
    "## Simulations\n",
    "\n",
    "As before, we can code this up in Myokit and simulate a voltage step.\n",
    "\n",
    "In this version, we will omit the leak current and voltage offset.\n",
    "To allow switching off compensation, we will add a lower bound for the denominator of $\\dot{V}_\\text{est}$:\n",
    "\n",
    "\\begin{align}\n",
    "\\dot{V}_\\text{est} = \\frac{V_s - V_\\text{est}}{\\tau_\\text{est}} &&\n",
    "\\tau_\\text{est} = \\max \\left\\{ (1 - \\beta)R_s^*C_m^* , 10^{-8} \\text{ms} \\right\\}\n",
    "\\end{align}"
   ]
  },
  {
   "cell_type": "code",
   "execution_count": 1,
   "id": "5ada4776-e480-4aea-a67b-5a138ff8b699",
   "metadata": {},
   "outputs": [],
   "source": [
    "import myokit\n",
    "import numpy as np\n",
    "import matplotlib\n",
    "import matplotlib.pyplot as plt"
   ]
  },
  {
   "cell_type": "code",
   "execution_count": 14,
   "id": "7d682716",
   "metadata": {},
   "outputs": [],
   "source": [
    "m = myokit.parse_model('''\n",
    "[[model]]\n",
    "amp.Vm = -80\n",
    "amp.Vp = -80\n",
    "amp.Vo = -80\n",
    "amp.Ve = -80\n",
    "amp.Vrc = -80\n",
    "amp.Vf11 = -80\n",
    "amp.Vf12 = -80\n",
    "amp.Vf13 = -80\n",
    "amp.Vf14 = -80\n",
    "amp.Vf15 = -80\n",
    "amp.V1 = -80\n",
    "amp.V21 = -80\n",
    "amp.V22 = -80\n",
    "amp.V23 = -80\n",
    "amp.V2 = -80\n",
    "amp.Vs1 = -80\n",
    "amp.Vs = -80\n",
    "\n",
    "[engine]\n",
    "time = 0 [ms] in [ms] bind time\n",
    "pace = 0 bind pace\n",
    "\n",
    "[amp]\n",
    "I = 10 [nS] * Vm\n",
    "    in [pA]\n",
    "alpha = 0.7\n",
    "beta = 0.7\n",
    "Rs = 5e-3 [GOhm] in [GOhm]\n",
    "Rs_est = 5e-3 [GOhm] in [GOhm]\n",
    "Cm = 25 [pF] in [pF]\n",
    "Cm_est = 25 [pF] in [pF]\n",
    "Cp = 5 [pF] in [pF]\n",
    "Cp_est = 5 [pF] in [pF]\n",
    "Rf = 0.5 [GOhm] in [GOhm]\n",
    "Cf = 4e-3 [pF] in [pF]\n",
    "tau_a = 12e-6 [ms] in [ms]\n",
    "tau_rc = 10e-3 [ms] in [ms]\n",
    "\n",
    "# Voltage clamp and compensations\n",
    "dot(Vm) = (Vp - Vm) / (Rs * Cm) - I / Cm\n",
    "    in [mV]\n",
    "dot(Vp) = ((Vo - Vp) / Rf - (Vp - Vm) / Rs +\n",
    "            Cf * dot(Vo) + Cm_est * dot(Ve) + Cp_est * dVr\n",
    "          ) / (Cp + Cf)\n",
    "    in [mV]\n",
    "dot(Vo) = (Vr - Vp) / tau_a\n",
    "    in [mV]\n",
    "dot(Ve) = (Vs - Ve) / if(tau_e < 1e-8 [ms], 1e-8 [ms], tau_e)\n",
    "    in [mV]\n",
    "    tau_e = ((1 - beta) * Rs_est * Cm_est)\n",
    "        in [ms]\n",
    "Vr = alpha * Rs_est / Rf * Vrc + (Vs - beta * Ve) / (1 - beta)\n",
    "    in [mV]\n",
    "dVr = alpha * Rs_est / Rf * dot(Vrc) + (dot(Vs) - beta * dot(Ve)) / (1 - beta)\n",
    "    in [mV/ms]\n",
    "dot(Vrc) = (V1 - Vrc) / tau_rc\n",
    "    in [mV]\n",
    "\n",
    "# Filter 1\n",
    "f1 = 10 [kHz] in [kHz]\n",
    "a1 = 2.7034 / (2 * 3.14159 * f1)\n",
    "    in [ms]\n",
    "dot(Vf11) = 26.514 / a1^2 * (Vo - Vr - Vf12) - 5.0319 / a1 * Vf11\n",
    "    in [mV/ms]\n",
    "dot(Vf12) = Vf11\n",
    "    in [mV]\n",
    "dot(Vf13) = 20.853 / a1^2 * (Vf12 - Vf14) - 7.4714 / a1 * Vf13\n",
    "    in [mV/ms]\n",
    "dot(Vf14) = Vf13\n",
    "    in [mV]\n",
    "dot(Vf15) = 18.801 / a1^2 * (Vf14 - V1) - 8.4967 / a1 * Vf15\n",
    "    in [mV/ms]\n",
    "dot(V1) = Vf15\n",
    "    desc: The 6-pole filtered output\n",
    "    in [mV]\n",
    "\n",
    "# Filter 2\n",
    "f2 = 10 [kHz] in [kHz]\n",
    "a2 = 2.114 / (2 * 3.14159 * f2)\n",
    "    in [ms]\n",
    "dot(V21) = 11.488 / a2^2 * (V1 - V22) - 4.2076 / a2 * V21\n",
    "    in [mV/ms]\n",
    "dot(V22) = V21\n",
    "    in [mV]\n",
    "dot(V23) = 9.1401 / a2^2 * (V22 - V2) - 5.7924 / a2 * V23\n",
    "    in [mV/ms]\n",
    "dot(V2) = V23\n",
    "    desc: The 4-pole filtered output\n",
    "    in [mV]\n",
    "I_obs = V2 / Rf\n",
    "    in [pA]\n",
    "\n",
    "# Input filter\n",
    "tr = 0.04 [ms] in [ms]\n",
    "a3 = 1.3616 / log(9) * tr \n",
    "    in [ms]\n",
    "Vc = engine.pace * 1 [mV]\n",
    "    in [mV]\n",
    "dot(Vs1) = 3 * ((Vc - Vs) / a3^2 - Vs1 / a3)\n",
    "    in [mV/ms]\n",
    "dot(Vs) = Vs1\n",
    "    desc: The 2-pole filtered stimulus\n",
    "    in [mV]\n",
    "''')\n",
    "m.check_units(myokit.UNIT_STRICT)"
   ]
  },
  {
   "cell_type": "code",
   "execution_count": 15,
   "id": "169e0123",
   "metadata": {},
   "outputs": [],
   "source": [
    "p = myokit.Protocol()\n",
    "p.add_step(level=0, duration=5)\n",
    "p.add_step(level=10, duration=10)\n",
    "p.add_step(level=0, duration=20)\n",
    "\n",
    "s = myokit.Simulation(m, p)\n",
    "s.set_tolerance(1e-8, 1e-8)\n",
    "s.pre(4)\n",
    "dB = s.run(20)\n",
    "\n",
    "s.reset()\n",
    "s.pre(4)\n",
    "s.set_constant('amp.alpha', 0)\n",
    "s.set_constant('amp.beta', 0)\n",
    "s.set_constant('amp.Cm_est', 0)\n",
    "s.set_constant('amp.Cp_est', 0)\n",
    "dA = s.run(20)"
   ]
  },
  {
   "cell_type": "code",
   "execution_count": 17,
   "id": "2e3eadba",
   "metadata": {},
   "outputs": [
    {
     "data": {
      "image/png": "[encoded data removed]",
      "text/plain": [
       "<Figure size 1500x500 with 2 Axes>"
      ]
     },
     "metadata": {},
     "output_type": "display_data"
    }
   ],
   "source": [
    "kw = dict(color='#aaa', ls='--')\n",
    "\n",
    "fig = plt.figure(figsize=(15, 5))\n",
    "\n",
    "ax = fig.add_subplot(1, 2, 1)\n",
    "ax.set_xlabel('Time (ms)')\n",
    "ax.set_ylabel('Vm (mV)')\n",
    "ax.axhline(0, **kw)\n",
    "ax.axhline(10, **kw)\n",
    "ax.plot(dA.time(), dA['amp.Vm'], label='No compensation')\n",
    "ax.plot(dB.time(), dB['amp.Vm'], label='Compensation on')\n",
    "ax.legend()\n",
    "\n",
    "ax = fig.add_subplot(1, 2, 2)\n",
    "ax.set_xlabel('Time (ms)')\n",
    "ax.set_ylabel('$I_{obs}$ (pA)')\n",
    "ax.axhline(0, **kw)\n",
    "ax.plot(dA.time(), dA['amp.I_obs'])\n",
    "ax.plot(dB.time(), dB['amp.I_obs'])\n",
    "ax.set_ylim(-2000, 2000)\n",
    "\n",
    "plt.show()"
   ]
  },
  {
   "cell_type": "markdown",
   "id": "4e957331",
   "metadata": {},
   "source": [
    "## Conclusion\n",
    "\n",
    "In this notebook we have introduced and modelled several types of electronic compensation circuitry found in patch-clamp amplifiers:\n",
    "\n",
    "1. Zeroing the voltage\n",
    "2. Frequency response correction\n",
    "3. Fast and slow capacitative transient cancellation\n",
    "4. Series resistance correction and prediction\n",
    "5. Input and output filters\n",
    "\n",
    "In the next notebook we will discuss _filtering_ of the input and output signals."
   ]
  }
 ],
 "metadata": {
  "kernelspec": {
   "display_name": "Python 3 (ipykernel)",
   "language": "python",
   "name": "python3"
  },
  "language_info": {
   "codemirror_mode": {
    "name": "ipython",
    "version": 3
   },
   "file_extension": ".py",
   "mimetype": "text/x-python",
   "name": "python",
   "nbconvert_exporter": "python",
   "pygments_lexer": "ipython3",
   "version": "3.13.2"
  }
 },
 "nbformat": 4,
 "nbformat_minor": 5
}
