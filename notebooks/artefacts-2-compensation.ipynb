{
 "cells": [
  {
   "cell_type": "markdown",
   "id": "cf0eda98",
   "metadata": {},
   "source": [
    "# Modelling patch-clamp experiments: electronic compensation\n",
    "\n",
    "In the [last notebook](./artefacts-1-modelling-patch-clamp.ipynb), we introduced an electrical schematic that can serve as a model of the patch-clamp set up, with distortions by leak, offsets, and unwanted capacitances.\n",
    "To compensate for these unwanted effects, patch-clamp amplifiers contain special circuitry.\n",
    "In this notebook we extend our model to include the effects of these compensations, as modelled in [Lei et al., 2020](https://doi.org/10.1098/rsta.2019.0348).\n",
    "\n",
    "We will deal mostly with _transient_ distortions of the recorded output signal, which we call _artefacts_, and with transient differences between the true and intended membrane potential, which are an example of _imperfect control_.\n",
    "These terms, and general strategies for dealing with their effects, are discussed in [Appendix D1](./appendix-D1-strategies.ipynb).\n",
    "Stochastic and periodic noise are not discussed here, but a brief discussion is given in [Appendix D2](./appendix-D2-inspecting-noise.ipynb)."
   ]
  },
  {
   "cell_type": "markdown",
   "id": "f2b59884",
   "metadata": {},
   "source": [
    "## Zeroing and the liquid junction potential ($E_\\text{off}$)\n",
    "\n",
    "In the last notebook we introduced $E_\\text{off}$, which represents the sum of various voltage offsets that are incurred in the experimental setup.\n",
    "This offset is usually corrected by a dial or a digital control that allows the experimenter to subtract an equal offset $-E_\\text{off}^*$.\n",
    "To allow for the idea that this correction is imperfect, either because it was set imperfectly or because $E_\\text{off}$ drifted over time, we now introduce a symbol for the error in the offset correction $E_\\text{off}^\\dagger$ as\n",
    "\\begin{equation}\n",
    "E_\\text{off}^\\dagger = E_\\text{off} - E_\\text{off}^*\n",
    "\\end{equation}\n",
    "\n",
    "In the schematic, we will simply replace $E_\\text{off}$ with the remaining error."
   ]
  },
  {
   "cell_type": "markdown",
   "id": "29f58378",
   "metadata": {},
   "source": [
    "<img src=\"resources/patch-comp-1-Eoff.png\" style=\"margin:auto\" />\n",
    "\n",
    "_**Figure 1**: The voltage offset has been corrected until only a small error_ $E_\\text{off}^\\dagger$ _remains._"
   ]
  },
  {
   "cell_type": "markdown",
   "id": "5dcfaa36",
   "metadata": {},
   "source": [
    "### The liquid junction potential\n",
    "\n",
    "A liquid junction potential (LJP) arises wherever two liquids containing different concentrations of ions are in contact.\n",
    "In manual patch clamp this is the case just before the experiment, when the pipette is in the bath but not yet attached to the cell.\n",
    "The correction $E_\\text{off}*$ is usually determined just before the final approach to the cell, and so includes this LJP.\n",
    "Once a connection to the cell is made, the pipette fluid is in contact with the cytosol and because both fluids are similar an LJP no longer exists.\n",
    "In other words, the LJP is removed from $E_\\text{off}$, but not from $E_\\text{off}^*$.\n",
    "\n",
    "The correction for this overcorrection is called LJP correction, and proceeds as follows:\n",
    "\n",
    "1. The LJP is calculated by entering the bath and pipette solutions into an LJP calculating program.\n",
    "2. We can then adjust all $V_\\text{cmd}$ values to obtain the desired $V_m$ (*a priori* correction) or simply accept that $V_m$ is shifted from the desired value and account for this in our analysis (*a posteriori* correction). \n",
    "\n",
    "Some systems allow the LJP to be entered into the recording software, so that *a priori* correction can be performed without further user input.\n",
    "\n",
    "A detailed description of the correction procedure is provided in [Appendix D3](./appendix-D3-liquid-junction-potential.ipynb).\n",
    "In short, if you have to do manual *a posteriori* correction then you **subtract** the LJP from the applied or measured voltage to get the true value."
   ]
  },
  {
   "cell_type": "markdown",
   "id": "431eb7a8",
   "metadata": {},
   "source": [
    "### We won't explicitly treat the LJP\n",
    "\n",
    "In the remainder of this notebook we will assume LJP correction has been performed by adjusting $V_\\text{cmd}$.\n",
    "We will treat $E_\\text{off}^\\dagger$ as a small number that does not include the LJP."
   ]
  },
  {
   "cell_type": "markdown",
   "id": "e35c1d2b",
   "metadata": {},
   "source": [
    "## Fast capacitance correction ($C_p$)\n",
    "\n",
    "The next compensation circuitry we include attempts to charge the capacitor $C_p$ without affecting the current through the cell.\n",
    "To do this, a prediction of the current flowing into $C_p$ is made, and \"injected\" into the circuitry."
   ]
  },
  {
   "cell_type": "markdown",
   "id": "4d3f0a50",
   "metadata": {},
   "source": [
    "<img src=\"resources/patch-comp-2-Cp.png\" style=\"margin:auto\" />\n",
    "\n",
    "_**Figure 2**: Fast capacitance correction aims to charge_ $C_p$ _without affecting the current through the cell._"
   ]
  },
  {
   "cell_type": "markdown",
   "id": "2df49283",
   "metadata": {},
   "source": [
    "In the diagram above, we have drawn an active component that somehow generates the current $I_\\text{inj}$, but does not draw any current from the node at $V_c$.\n",
    "As an equation for $I_\\text{inj}$ we'll use\n",
    "\n",
    "\\begin{equation}\n",
    "I_\\text{inj} = C_p^* \\dot{V}_c\n",
    "\\end{equation}\n",
    "\n",
    "where $C_p^*$ is the _estimated_ parasitic capacitance.\n",
    "(In a real implementation a fixed $C$ is used, but an amplifier with a variable gain $A$ is attached, so that $A \\cdot C_\\text{fixed}$ can be made to match $C_p$.)\n",
    "\n",
    "Note that the above equation is problematic for voltage step protocols, in which $\\dot{V}_c$ is either $0$ or $\\pm\\infty$.\n",
    "This is less of a problem in practice, as stray capacitances and other factors will conspire to \"round\" $V_\\text{cmd}$ a little and make $\\dot{V}_\\text{cmd}$ finite.\n",
    "However, it does still make matching $C_p$ and $C_p^*$ very difficult in practice, and [Sigworth 1995a](https://doi.org/10.1007/978-1-4419-1229-9_4) proposes a schematic in which\n",
    "\n",
    "1. $V_\\text{cmd}$ is passed through a 10 $\\mu$s low-pass filter.\n",
    "2. A split is made, and the branch connected to the op amp is filtered with a further 0.5 $\\mu$s.\n",
    "3. The branch used to create $I_\\text{inj}$ is filtered with a variable time constant between 0 and 1 $\\mu$s, which is manually calibrated to obtain a good step response.\n",
    "\n",
    "This means that, even with _perfect_ capacitance correction, we should still expect a rounding off of any voltage step protocols!"
   ]
  },
  {
   "cell_type": "markdown",
   "id": "bb019558",
   "metadata": {},
   "source": [
    "In this notebook we will assume the rounding is well modelled by other capacitances in the system, and proceed with the equation given above."
   ]
  },
  {
   "cell_type": "markdown",
   "id": "f2685571",
   "metadata": {},
   "source": [
    "## Slow capacitance correction ($C_m$)\n",
    "\n",
    "Next, we add a similar correction term for the much larger capacitance $C_m$.\n",
    "As with $C_p$ correction, there are practical considerations that complicate real-world implementations ([Sigworth 1995a](https://doi.org/10.1007/978-1-4419-1229-9_4)) but for now we'll simply add another term based on the estimated membrane capacitance $C_m^*$:\n",
    "\n",
    "\\begin{equation}\n",
    "I_\\text{inj} = C_p^* \\dot{V}_c + C_m^* \\dot{V}_c\n",
    "\\end{equation}"
   ]
  },
  {
   "cell_type": "markdown",
   "id": "960ecfe7",
   "metadata": {},
   "source": [
    "## What if we don't correct?\n",
    "\n",
    "Since we're going to be modelling both physical effects (e.g. fast and slow capacitative transients) and their (imperfect) corrections, it makes sense to ask why we're correcting at all.\n",
    "Surely it would be simpler to switch off the corrections and model only the physical effects?\n",
    "\n",
    "Unfortunately there are two practical difficulties with this approach (see also [Sigworth 1995a](https://doi.org/10.1007/978-1-4419-1229-9_4)).\n",
    "Firstly, the large charging currents can exceed the limits of the A/D converter used to digitise the output voltage.\n",
    "For the samples during which this _clipping_ occurs, we record only the maximum (or minimum) value, so information about the current is lost (making fitting harder).\n",
    "Amplifiers in the A/D converter may also go into _saturation_, which prolongs the clipping until the amplifiers have recovered.\n",
    "\n",
    "Secondly, large transient currents can cause the op amp in the feedback circuit to saturate, leading to a loss of control over the membrane voltage until the amplifier has recovered.\n"
   ]
  },
  {
   "cell_type": "markdown",
   "id": "3a492bbb",
   "metadata": {},
   "source": [
    "## Series resistance compensation ($R_s$)\n",
    "\n",
    "The _series resistance_ causes two issues for controlling the membrane potential:\n",
    "\n",
    "1. It causes a voltage drop, so that $V_m$ is not quite equal to the intended voltage $V_p$.\n",
    "2. It causes the membrane voltage to lag behind the desired voltage, with a time constant $R_sC_m$.\n",
    "\n",
    "To compensate for these effects, we will increase the voltage clamp potential a little bit above the desired command potential $V_c$.\n",
    "Two separate mechanisms are used.\n",
    "A feed-forward _correction_ mechanism based on the observed current corrects for the voltage drop,\n",
    "while a _prediction_ (or \"supercharging\") mechanism based on the estimated membrane potential speeds up the charging process."
   ]
  },
  {
   "cell_type": "markdown",
   "id": "5787e7cf",
   "metadata": {},
   "source": [
    "### \"Correction\" reduces the voltage drop\n",
    "\n",
    "\n",
    "A common method to compensate for the voltage drop, is to _feed a fraction of_ $V_\\text{out}$ _forward into_ $V_c$ ([Hodgkin et al. 1952](https://physoc.onlinelibrary.wiley.com/doi/10.1113/jphysiol.1952.sp004716)).\n",
    "In the schematic, we'll show this with two new components: an active component labelled _R_ that generates the voltage to be added, and a _summing amplifier_, labelled $\\Sigma$:"
   ]
  },
  {
   "cell_type": "markdown",
   "id": "d8e68433",
   "metadata": {},
   "source": [
    "<img src=\"resources/patch-comp-3-Rs-corr.png\" style=\"margin:auto\" />\n",
    "\n",
    "_**Figure 3**: Series resistance correction feeds a fraction of_ $V_\\text{out}$ _into_ $V_\\text{ref}$ _via a summing amplifier._"
   ]
  },
  {
   "cell_type": "markdown",
   "id": "204a0287",
   "metadata": {},
   "source": [
    "In this new set-up\n",
    "\n",
    "\\begin{align}\n",
    "V_\\text{out} = V_o - V_\\text{ref}\n",
    "\\end{align}\n",
    "\n",
    "And so the extra voltage added by the series resistance compensation will be zero when $V_o = V_\\text{ref}$.\n",
    "\n",
    "To analyse the effect of feed-forward on the voltage drop over $R_s$, we use the simplified schematic shown below."
   ]
  },
  {
   "cell_type": "markdown",
   "id": "05b12cd2",
   "metadata": {},
   "source": [
    "<img src=\"resources/patch-comp-4-Rs-corr.png\" style=\"margin:auto\" />\n",
    "\n",
    "_**Figure 4**: A simplified schematic for_ $R_s$ _correction._"
   ]
  },
  {
   "cell_type": "markdown",
   "id": "d96513ab",
   "metadata": {},
   "source": [
    "Using $x$ for the fraction of $V_\\text{out}$ fed into $V_\\text{ref}$ we find\n",
    "\n",
    "\\begin{align}\n",
    "V_\\text{ref} = V_c + x V_\\text{out} = V_c + x R_f I_\\text{obs}\n",
    "\\end{align}\n",
    "for\n",
    "\\begin{align}\n",
    "V_m &= V_p - R_s I \\\\\n",
    "    &\\approx V_\\text{ref} - R_s I \\\\\n",
    "    &= V_c + x R_f I_\\text{obs} - R_s I \\\\\n",
    "    &\\approx V_c + (x R_f - R_s) I\n",
    "\\end{align}\n",
    "\n",
    "where we assume first a perfect op amp ($V_p = V_\\text{ref}$) and then a perfect measurement ($I = I_\\text{obs}$).\n",
    "The error in the voltage is given by\n",
    "$V_m - V_c \\approx (x R_f - R_s) I$\n",
    "so if we can choose $x R_f = R_s$ we can compensate for the voltage drop over $R_s$ entirely.\n",
    "\n",
    "In our model, we will assume that the feed-forward rate is set based on an estimate of the series resistance $R_s^*$:\n",
    "\n",
    "\\begin{align}\n",
    "V_\\text{ref} = V_c + R_s^* I_\\text{obs}\n",
    "\\end{align}\n",
    "\n",
    "In practice, the various delays and imperfections in the system can easily create a situation where the feed-forward causes oscillations  or \"ringing\" in the system.\n",
    "To alleviate this, we only compensate a fraction $\\alpha$ of the estimated resistance:\n",
    "\n",
    "\\begin{align}\n",
    "V_\\text{ref} = V_c + \\alpha R_s^* I_\\text{obs}\n",
    "\\end{align}\n",
    "\n",
    "where $\\alpha$ is usually limited to about 70 or 80% ([Sigworth 1995a](https://doi.org/10.1007/978-1-4419-1229-9_4))."
   ]
  },
  {
   "cell_type": "markdown",
   "id": "2a8cd7d8",
   "metadata": {},
   "source": [
    "### \"Prediction\" speeds up the charging process\n",
    "\n",
    "Above, we used $C_m$ correction to subtract the charging current $C_m\\dot{V}_m$ from $I_\\text{obs}$.\n",
    "As an unintended consequence, the charging current is not accounted for in the correction term $\\alpha R_s^* I_\\text{obs}$.\n",
    "Instead, we will address membrane charging seperately, by\n",
    "\n",
    "1. Making a _prediction_ of $V_m$, as affected by $R_sC_m$\n",
    "2. Speed up the charging process by temporarily applying an exaggerated voltage.\n",
    "\n",
    "For the estimated membrane potential, we will write\n",
    "\\begin{align}\n",
    "\\dot{V}_\\text{est} &= \\frac{V_c - V_\\text{est}}{(1 - \\beta)R_s^*C_m^*}   \n",
    "\\end{align}\n",
    "\n",
    "where $\\beta$ is the fraction of $R_s$ we will compensate, leading to a remaining series resistance $(1 - \\beta)R_s$ for an estimated time constant of $(1 - \\beta)R_s^*C_m^*$.\n",
    "Next, we update the reference voltage by adding a term $\\beta R_s^*C_m^* \\dot{V}_\\text{est}$:\n",
    "\n",
    "\\begin{align}\n",
    "V_\\text{ref} = V_c + \\alpha R_s^* I_\\text{obs} + \\beta R_s^* C_m^* \\dot{V}_\\text{est}\n",
    "\\end{align}\n",
    "\n",
    "A schematic including both types of $R_s$ compensation is shown below:"
   ]
  },
  {
   "cell_type": "markdown",
   "id": "a9868f70",
   "metadata": {},
   "source": [
    "<img src=\"resources/patch-comp-5-Rs-pred.png\" style=\"margin:auto\" />\n",
    "\n",
    "_**Figure 5**: A simplified schematic for_ $R_s$ _prediction (left) and correction (right)._"
   ]
  },
  {
   "cell_type": "markdown",
   "id": "50caa469",
   "metadata": {},
   "source": [
    "If only a single control $\\alpha = \\beta$ is provided for both prediction and correction, we can write\n",
    "\n",
    "\\begin{align}\n",
    "V_\\text{ref} = V_c + \\alpha R_s^* \\left( I_\\text{obs} + C_m^* \\dot{V}_\\text{est} \\right)\n",
    "\\end{align}\n",
    "\n",
    "The addition of the predicted charging current causes a significant \"overshoot\" in $V_\\text{ref}$, which has been likened to the _supercharging_ method of [Armstrong & Chow (1987)](https://doi.org/10.1016/S0006-3495(87)83198-3).\n",
    "\n",
    "A derivation of the prediction equations from the schematics by Sigworth is given in [appendix B3](./appendix-B3-sigworth-rs.ipynb)."
   ]
  },
  {
   "cell_type": "markdown",
   "id": "fc428a62",
   "metadata": {},
   "source": [
    "### Incorporating a \"lag\"\n",
    "\n",
    "Finally, patch-clamp amplifiers typically implement a 1st order filtering or \"lag\" on the series resistance compensation, characterised by a user-defined time constant $\\tau_\\text{sum}$.\n",
    "We implement this as:\n",
    "\n",
    "\\begin{align}\n",
    "\\dot{V}_\\text{ref} = \\frac{V_c + \\alpha R_s^* I_\\text{obs} + \\beta R_s^* C_m^* \\dot{V}_\\text{est} - V_\\text{ref}}{\\tau_\\text{sum}}\n",
    "\\end{align}\n",
    "\n",
    "where typical values for $\\tau_\\text{sum}$ are $2\\mu s$ (fast), $10\\mu s$ (average), or $100\\mu s$ (slow, see [Appendix C3](./appendix-C3-parameter-values.ipynb))."
   ]
  },
  {
   "cell_type": "code",
   "execution_count": null,
   "id": "3f4a712d-9dd5-48d9-96c7-f85ad55bf365",
   "metadata": {},
   "outputs": [],
   "source": []
  },
  {
   "cell_type": "markdown",
   "id": "f67c7146-8f3f-42bc-b329-138f53fe4342",
   "metadata": {},
   "source": [
    "\\begin{align}\n",
    "V_\\text{ref} = V_c + \\alpha R_s^* I_\\text{obs} + \\beta R_s^* C_m^* \\dot{V}_\\text{est}\n",
    "\\end{align}"
   ]
  },
  {
   "cell_type": "markdown",
   "id": "9e06a285-6e73-4b2f-820e-e6e07088e9df",
   "metadata": {},
   "source": [
    "\\begin{align}\n",
    "V_\\text{ref} = V_c + V_s + \\beta R_s^* C_m^* \\dot{V}_\\text{est}\n",
    "\\end{align}\n",
    "\n",
    "\\begin{align}\n",
    "\\tau_s \\dot{V_s} = \\alpha R_s^* I_\\text{obs} - V_s\n",
    "\\end{align}"
   ]
  },
  {
   "cell_type": "code",
   "execution_count": null,
   "id": "31c5c489-1d08-41bd-af28-cf8843a1df6d",
   "metadata": {},
   "outputs": [],
   "source": []
  },
  {
   "cell_type": "markdown",
   "id": "934470f3",
   "metadata": {},
   "source": [
    "### An updated slow capacitance correction\n",
    "\n",
    "Having introduced $V_\\text{est}$ and a series resistance compensation based on $C_m^*\\dot{V}_\\text{est}$, we can now follow [Sigworth 1995a](https://doi.org/10.1007/978-1-4419-1229-9_4) and use this term in our slow capacitance correction. This means splitting up the \"injection\" pathways for fast and slow capacitance, leading to the schematic below.\n"
   ]
  },
  {
   "cell_type": "markdown",
   "id": "d888d313",
   "metadata": {},
   "source": [
    "<img src=\"resources/patch-comp-6-full.png\" style=\"margin:auto\" />\n",
    "\n",
    "_**Figure 6**: A model with series resistance correction and prediction, and with fast and slow capacitative transient cancellation._"
   ]
  },
  {
   "cell_type": "markdown",
   "id": "803954c5",
   "metadata": {},
   "source": [
    "Correspondingly, we split $I_\\text{inj}$ up into two currents $I_\\text{FC}$ and $I_\\text{SC}$, where\n",
    "\n",
    "\\begin{align}\n",
    "I_\\text{SC} = C_m^* \\dot{V}_\\text{est} && \\text{Slow capacitance correction}\n",
    "\\end{align}\n",
    "\n",
    "We can use $V_\\text{est}$ even when series resistance prediction is disabled: setting $\\beta = 0$ turns $V_\\text{est}$ into an estimate of the uncompensated membrane potential.\n",
    "\n",
    "\\begin{align}\n",
    "\\dot{V}_\\text{est}(\\beta = 0) &= \\frac{V_c - V_\\text{est}}{R_s^*C_m^*}   \n",
    "\\end{align}"
   ]
  },
  {
   "cell_type": "markdown",
   "id": "f0e20b1a",
   "metadata": {},
   "source": [
    "### An updated fast capacitance correction\n",
    "\n",
    "In our schematic, we have placed $R_s$ after $C_p$, to reflect the fact that the fast capacitative current pathway \"has negligible series resistance\" ([Sigworth 1995a](https://doi.org/10.1007/978-1-4419-1229-9_4), section 5.2).\n",
    "As a result, we don't need to take $C_p$ into account for the model of series resistance compensation.\n",
    "(However, a good $C_p$ correction is essential for stable $R_s$ compensation in practice!)\n",
    "\n",
    "However, we _will_ update the model slightly to use $V_\\text{ref}$, which purposefully lags behind $V_c$ (and \"rounds\" it) as the basis for our fast capacitance cancellation:\n",
    "\n",
    "\\begin{align}\n",
    "I_\\text{FC} = C_p^* \\dot{V}_\\text{ref} && \\text{Fast capacitance correction}\n",
    "\\end{align}\n",
    "\n",
    "In practice, many  patch clamp amplifiers use a seperate \"lag\" time constant for $I_\\text{FC}$.\n",
    "Some even allow two \"fast\" components, each with their own $C$ and $\\tau$.\n",
    "The published information doesn't make it quite clear whether these lags are added onto $V_\\text{ref}$ or onto $V_c$.\n",
    "Here, we will simplify by modelling $I_\\text{FC}$ as a single component correction based on $V_\\text{ref}$."
   ]
  },
  {
   "cell_type": "markdown",
   "id": "095a0512",
   "metadata": {},
   "source": [
    "## The final model"
   ]
  },
  {
   "cell_type": "markdown",
   "id": "7ae20d53",
   "metadata": {},
   "source": [
    "The final model schematic is shown in Figure 5."
   ]
  },
  {
   "cell_type": "markdown",
   "id": "f43319ae",
   "metadata": {},
   "source": [
    "<img src=\"resources/patch-comp-6-full.png\" style=\"margin:auto\" />\n",
    "\n",
    "_**Figure 6 again**: The full model with compensation._"
   ]
  },
  {
   "cell_type": "markdown",
   "id": "26ad6d1b",
   "metadata": {},
   "source": [
    "\\begin{align}\n",
    "2.1. && C_m\\dot{V}_m = \\frac{V_p + E_\\text{off}^\\dagger - V_m}{R_s} - \\frac{V_m - E_\\text{leak}}{R_\\text{leak}} - I\n",
    "\\end{align}\n",
    "\n",
    "\\begin{align}\n",
    "2.2. && (C_p+C_f)\\dot{V}_p = \\frac{V_o - V_p}{R_f} - \\frac{V_p + E_\\text{off}^\\dagger - V_m}{R_s} + C_f\\dot{V}_o + C_m^* \\dot{V}_\\text{est} + C_p^* \\dot{V}_\\text{ref}\n",
    "\\end{align}\n",
    "\n",
    "\\begin{align}\n",
    "2.3. && \\tau_a \\dot{V}_o = V_\\text{ref} - V_p\n",
    "\\end{align}\n",
    "\n",
    "\\begin{align}\n",
    "2.4. && \\dot{V}_\\text{est} &= \\frac{V_c - V_\\text{est}}{(1 - \\beta)R_s^*C_m^*}   \n",
    "\\end{align}\n",
    "\n",
    "\\begin{align}\n",
    "2.5. && \\tau_\\text{sum}\\dot{V}_\\text{ref} = V_c + \\alpha R_s^* I_\\text{obs} + \\beta R_s^* C_m^* \\dot{V}_\\text{est} - V_\\text{ref}\n",
    "\\end{align}\n",
    "\n",
    "\\begin{align}\n",
    "2.6. && R_f I_\\text{obs} = V_o - V_\\text{ref}\n",
    "\\end{align}"
   ]
  },
  {
   "cell_type": "markdown",
   "id": "cb286752",
   "metadata": {},
   "source": [
    "## Variations\n",
    "\n",
    "As with the uncompensated model, we can create model variations by choosing slightly different equations to model the main op-amp.\n",
    "These are discussed in [Appendix B2](./appendix-B2-compensated-models.ipynb)"
   ]
  },
  {
   "cell_type": "markdown",
   "id": "3e18bb3d",
   "metadata": {},
   "source": [
    "## Simulations\n",
    "\n",
    "As before, we can code this up in Myokit and simulate a voltage step.\n",
    "\n",
    "To allow switching off compensation, we will add a lower bound for the denominator of $\\dot{V}_\\text{est}$:\n",
    "\n",
    "\\begin{align}\n",
    "\\dot{V}_\\text{est} = \\frac{V_c - V_\\text{est}}{\\tau_\\text{est}} &&\n",
    "\\tau_\\text{est} = \\max \\left\\{ (1 - \\beta)R_s^*C_m^* , 10^{-8} \\text{ms} \\right\\}\n",
    "\\end{align}"
   ]
  },
  {
   "cell_type": "code",
   "execution_count": 1,
   "id": "5ada4776-e480-4aea-a67b-5a138ff8b699",
   "metadata": {},
   "outputs": [],
   "source": [
    "import myokit\n",
    "import numpy as np\n",
    "import matplotlib\n",
    "import matplotlib.pyplot as plt"
   ]
  },
  {
   "cell_type": "code",
   "execution_count": 2,
   "id": "7d682716",
   "metadata": {},
   "outputs": [],
   "source": [
    "m = myokit.parse_model('''\n",
    "[[model]]\n",
    "amp.Vm = -80\n",
    "amp.Vp = -80\n",
    "amp.Vo = -80\n",
    "amp.Ve = -80\n",
    "amp.Vr = -80\n",
    "\n",
    "[engine]\n",
    "time = 0 [ms] in [ms] bind time\n",
    "pace = 0 bind pace\n",
    "\n",
    "[amp]\n",
    "alpha = 0.7\n",
    "beta = 0.7\n",
    "Rs = 15e-3 [GOhm] in [GOhm]\n",
    "Rs_est = 15e-3 [GOhm] in [GOhm]\n",
    "Cm = 25 [pF] in [pF]\n",
    "Cm_est = 25 [pF] in [pF]\n",
    "Cp = 5 [pF] in [pF]\n",
    "Cp_est = 5 [pF] in [pF]\n",
    "Rf = 0.5 [GOhm] in [GOhm]\n",
    "Cf = 0.15 [pF] in [pF]\n",
    "tau_amp = 20e-6 [ms] in [ms]\n",
    "tau_sum = 10e-3 [ms] in [ms]\n",
    "tau_est = if(val < 1e-8 [ms], 1e-8 [ms], val)\n",
    "    in [ms]\n",
    "    val = (1 - beta) * Rs_est * Cm_est\n",
    "        in [ms]\n",
    "I = 10 [nS] * Vm\n",
    "    in [pA]\n",
    "Vc = engine.pace * 1 [mV]\n",
    "    in [mV]\n",
    "dot(Vm) = (Vp - Vm) / (Rs * Cm) - I / Cm\n",
    "    in [mV]\n",
    "dot(Vp) = ((Vo - Vp) / Rf - (Vp - Vm) / Rs +\n",
    "            Cf * dot(Vo) + Cm_est * dot(Ve) + Cp_est * dot(Vr)\n",
    "          ) / (Cp + Cf)\n",
    "    in [mV]\n",
    "dot(Vo) = (Vr - Vp) / tau_amp\n",
    "    in [mV]\n",
    "dot(Ve) = (Vc - Ve) / tau_est\n",
    "    in [mV]\n",
    "dot(Vr) = (Vc + alpha * Rs_est * I_obs + beta * Rs_est * Cm_est * dot(Ve) - Vr) / tau_sum\n",
    "    in [mV]\n",
    "I_obs = (Vo - Vr) / Rf\n",
    "    in [pA]\n",
    "''')\n",
    "m.check_units(myokit.UNIT_STRICT)"
   ]
  },
  {
   "cell_type": "code",
   "execution_count": 3,
   "id": "169e0123",
   "metadata": {},
   "outputs": [],
   "source": [
    "p = myokit.Protocol()\n",
    "p.add_step(level=0, duration=5)\n",
    "p.add_step(level=10, duration=10)\n",
    "p.add_step(level=0, duration=20)\n",
    "\n",
    "s = myokit.Simulation(m, p)\n",
    "s.set_tolerance(1e-8, 1e-8)\n",
    "s.pre(4)\n",
    "dB = s.run(20)\n",
    "\n",
    "s.reset()\n",
    "s.pre(4)\n",
    "s.set_constant('amp.alpha', 0)\n",
    "s.set_constant('amp.beta', 0)\n",
    "s.set_constant('amp.Cm_est', 0)\n",
    "s.set_constant('amp.Cp_est', 0)\n",
    "dA = s.run(20)"
   ]
  },
  {
   "cell_type": "code",
   "execution_count": 4,
   "id": "2e3eadba",
   "metadata": {},
   "outputs": [
    {
     "data": {
      "image/png": "[encoded data removed]",
      "text/plain": [
       "<Figure size 1500x500 with 2 Axes>"
      ]
     },
     "metadata": {},
     "output_type": "display_data"
    }
   ],
   "source": [
    "kw = dict(color='#aaa', ls='--')\n",
    "\n",
    "fig = plt.figure(figsize=(15, 5))\n",
    "\n",
    "ax = fig.add_subplot(1, 2, 1)\n",
    "ax.set_xlabel('Time (ms)')\n",
    "ax.set_ylabel('Vm (mV)')\n",
    "ax.axhline(0, **kw)\n",
    "ax.axhline(10, **kw)\n",
    "ax.plot(dA.time(), dA['amp.Vm'], label='No compensation')\n",
    "ax.plot(dB.time(), dB['amp.Vm'], label='Compensation on')\n",
    "ax.legend()\n",
    "\n",
    "ax = fig.add_subplot(1, 2, 2)\n",
    "ax.set_xlabel('Time (ms)')\n",
    "ax.set_ylabel('$I_{obs}$ (pA)')\n",
    "ax.axhline(0, **kw)\n",
    "ax.plot(dA.time(), dA['amp.I_obs'])\n",
    "ax.plot(dB.time(), dB['amp.I_obs'])\n",
    "ax.set_ylim(-3500, 3500)\n",
    "\n",
    "plt.show()"
   ]
  },
  {
   "cell_type": "markdown",
   "id": "4e957331",
   "metadata": {},
   "source": [
    "## Conclusion\n",
    "\n",
    "In this notebook we have introduced and modelled five types of compensation:\n",
    "\n",
    "1. Zeroing the voltage\n",
    "2. Fast capacitative transient cancellation\n",
    "3. Slow capacitative transient cancellation\n",
    "4. Series resistance correction\n",
    "5. Series resistance prediction\n",
    "\n",
    "In the next notebook we will discuss _filtering_ of the input and output signals."
   ]
  }
 ],
 "metadata": {
  "kernelspec": {
   "display_name": "Python 3 (ipykernel)",
   "language": "python",
   "name": "python3"
  },
  "language_info": {
   "codemirror_mode": {
    "name": "ipython",
    "version": 3
   },
   "file_extension": ".py",
   "mimetype": "text/x-python",
   "name": "python",
   "nbconvert_exporter": "python",
   "pygments_lexer": "ipython3",
   "version": "3.13.2"
  }
 },
 "nbformat": 4,
 "nbformat_minor": 5
}
